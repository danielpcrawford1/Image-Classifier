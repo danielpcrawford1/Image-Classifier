{
 "cells": [
  {
   "cell_type": "markdown",
   "id": "9c53ccf4-0b88-44f1-a209-6471c7939bd7",
   "metadata": {},
   "source": [
    "# Training Food Classifier #"
   ]
  },
  {
   "cell_type": "markdown",
   "id": "4348aedf-9883-4273-99bf-b82e077a1164",
   "metadata": {},
   "source": [
    "## Load and Prepare Data #"
   ]
  },
  {
   "cell_type": "code",
   "execution_count": 4,
   "id": "cc88293c-d6b8-4853-828a-6994b8adffe0",
   "metadata": {
    "tags": []
   },
   "outputs": [],
   "source": [
    "!pip install -Uqq fastai\n",
    "from fastai.vision.all import*"
   ]
  },
  {
   "cell_type": "code",
   "execution_count": null,
   "id": "49be0928-c5ed-407c-b4e1-cd1644519063",
   "metadata": {},
   "outputs": [],
   "source": []
  }
 ],
 "metadata": {
  "kernelspec": {
   "display_name": "Python 3 (ipykernel)",
   "language": "python",
   "name": "python3"
  },
  "language_info": {
   "codemirror_mode": {
    "name": "ipython",
    "version": 3
   },
   "file_extension": ".py",
   "mimetype": "text/x-python",
   "name": "python",
   "nbconvert_exporter": "python",
   "pygments_lexer": "ipython3",
   "version": "3.11.5"
  }
 },
 "nbformat": 4,
 "nbformat_minor": 5
}
